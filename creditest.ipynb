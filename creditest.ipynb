{
 "cells": [
  {
   "cell_type": "markdown",
   "id": "5d492c44-2d54-4de1-99c1-0c8046f1c7e3",
   "metadata": {},
   "source": [
    "# 31. Аппроксимация данных. Логистическая функция.\n",
    "[Weiner B. Discovering Psychology. 1977]\n",
    "\n",
    "В таблице представлены средние значения количества слов , которыми владеет ребенок в заданном возрасте .\n",
    "\n",
    "| t |  y|\n",
    "|------|-----|  \n",
    "| 1.0  |    3|\n",
    "|1.5   |   22|\n",
    "|2.0   |  272|\n",
    "|2.5   |  446|\n",
    "|3.0   |  896|\n",
    "|3.5   | 1222|\n",
    "|4.0   | 1540|\n",
    "|4.5   | 1870|\n",
    "|5.0   | 2072|\n",
    "|6.0   | 2562|\n",
    "\n",
    "\n",
    "Построить линейную $y = \\beta_0 + \\beta_1 x$\n",
    " и две логистические модели: $y = \\frac{\\beta_0}{1 + \\beta_1 e^{-\\beta_2 t}},\n",
    "\\qquad\n",
    "y = \\frac{\\beta_0}{1 + \\beta_1 e^{-\\beta_2 (t - t_0)}},$\n",
    " \n",
    " \n",
    "аппроксимирующие данные.\n",
    "Найти общую ошибку в каждом из этих случаев и сравнить результаты."
   ]
  },
  {
   "cell_type": "markdown",
   "id": "ae6dea8f-3842-43f7-9f93-bea33cbc2afd",
   "metadata": {
    "tags": []
   },
   "source": [
    "## Импорт библиотек"
   ]
  },
  {
   "cell_type": "code",
   "execution_count": 1,
   "id": "187692dc-0773-4494-9616-d2e20340fc9a",
   "metadata": {
    "tags": []
   },
   "outputs": [],
   "source": [
    "import numpy as np\n",
    "import matplotlib.pyplot as plt\n",
    "%matplotlib inline\n",
    "from scipy import linalg\n",
    "from scipy.optimize import curve_fit\n",
    "import math"
   ]
  },
  {
   "cell_type": "markdown",
   "id": "5a28c111-da0d-4c87-9909-b3d1a7a9cbad",
   "metadata": {},
   "source": [
    "## Создание массивов заданных значений"
   ]
  },
  {
   "cell_type": "code",
   "execution_count": 2,
   "id": "2998b563-1e43-446f-9b05-c676f070b373",
   "metadata": {},
   "outputs": [
    {
     "data": {
      "image/png": "[encoded data removed]",
      "text/plain": [
       "<Figure size 432x288 with 1 Axes>"
      ]
     },
     "metadata": {
      "needs_background": "light"
     },
     "output_type": "display_data"
    }
   ],
   "source": [
    "t = np.array([1.0, 1.5, 2.0, 2.5, 3.0, 3.5, 4.0, 4.5, 5.0, 6.0])\n",
    "y = np.array([3, 22, 272, 446, 896, 1222, 1540, 1870, 2072, 2562])\n",
    "plt.plot(t, y, 'o')\n",
    "pass"
   ]
  },
  {
   "cell_type": "markdown",
   "id": "3b70eb85-2053-46cf-9caa-bad74c9ae056",
   "metadata": {},
   "source": [
    "### Методом наименьших квадратов находим коэффициенты $\\beta_0$ и $\\beta_1$"
   ]
  },
  {
   "cell_type": "code",
   "execution_count": 3,
   "id": "1bb974a7-f39c-4fe7-a445-f4d63c4895c1",
   "metadata": {},
   "outputs": [],
   "source": [
    "m = len(t)\n",
    "T = np.stack((np.ones(m), t)).T\n",
    "beta, residuals, rank, sv = linalg.lstsq(T,y)"
   ]
  },
  {
   "cell_type": "code",
   "execution_count": 4,
   "id": "86899b6f-297f-4aa0-9398-585c8b3a9179",
   "metadata": {},
   "outputs": [
    {
     "data": {
      "text/plain": [
       "(-763.8571428571421, 561.9264069264069)"
      ]
     },
     "execution_count": 4,
     "metadata": {},
     "output_type": "execute_result"
    }
   ],
   "source": [
    "beta0, beta1 = beta\n",
    "beta0, beta1"
   ]
  },
  {
   "cell_type": "markdown",
   "id": "80f8c304-d2a5-41bb-acca-88378451338c",
   "metadata": {},
   "source": [
    "### Строим аппроксимирующую прямую из линейной функции"
   ]
  },
  {
   "cell_type": "code",
   "execution_count": 5,
   "id": "770409c0-695f-4a6d-8643-4a7aade69596",
   "metadata": {},
   "outputs": [
    {
     "data": {
      "image/png": "[encoded data removed]",
      "text/plain": [
       "<Figure size 432x288 with 1 Axes>"
      ]
     },
     "metadata": {
      "needs_background": "light"
     },
     "output_type": "display_data"
    }
   ],
   "source": [
    "plt.plot(t, T@beta)\n",
    "plt.plot(t, y, 'o')\n",
    "pass"
   ]
  },
  {
   "cell_type": "markdown",
   "id": "cc36126d-8ca9-4e9d-b9ff-2db1baf36973",
   "metadata": {},
   "source": [
    "### Вычисляем общую ошибку найденной нами прямой"
   ]
  },
  {
   "cell_type": "code",
   "execution_count": 6,
   "id": "34881e8a-e91b-486b-a4ca-e324404c5741",
   "metadata": {},
   "outputs": [
    {
     "name": "stdout",
     "output_type": "stream",
     "text": [
      "823.2207792207796\n"
     ]
    }
   ],
   "source": [
    "res = pow(y - (beta0 + beta1 * t) , 2)\n",
    "res = np.sqrt(res)\n",
    "err = 0\n",
    "for i in range(len(res)):\n",
    "    err+=res[i]\n",
    "print(err)    "
   ]
  },
  {
   "cell_type": "markdown",
   "id": "d240f2ac-565e-4817-862c-f879cefcf36a",
   "metadata": {},
   "source": [
    "### Определяем первую логистическую модель\n"
   ]
  },
  {
   "cell_type": "code",
   "execution_count": 7,
   "id": "bd2ea83b-a298-4a10-8759-233786cbc469",
   "metadata": {},
   "outputs": [],
   "source": [
    "def LogM1(t, b1, b2) :\n",
    "    return 2400 / (1 + b1 * np.exp(-b2*t))"
   ]
  },
  {
   "cell_type": "markdown",
   "id": "16d15b68-711a-4f50-aeca-015d793305ef",
   "metadata": {},
   "source": [
    "---\n",
    "#### Методом подбора я нашел коэффициент $\\beta_0$ при котором кривая максимально близка к заданным значениям y\n",
    "#### Если определять этот коэффициент функцией curve_fit из библиотеки scipy.optimize, то график функции принимает вид горизонтальной прямой\n"
   ]
  },
  {
   "cell_type": "code",
   "execution_count": 8,
   "id": "3941f3f9-d622-47ce-8a1b-6d03534f06b0",
   "metadata": {},
   "outputs": [],
   "source": [
    "def LogM1Test(t, b0, b1, b2) :\n",
    "    return b0 / (1 + b1 * np.exp(-b2*t))"
   ]
  },
  {
   "cell_type": "code",
   "execution_count": 9,
   "id": "dbc529ff-7d00-42c2-bc1e-366841a873e1",
   "metadata": {},
   "outputs": [
    {
     "name": "stderr",
     "output_type": "stream",
     "text": [
      "C:\\Users\\sskam\\AppData\\Roaming\\Python\\Python37\\site-packages\\scipy\\optimize\\minpack.py:834: OptimizeWarning: Covariance of the parameters could not be estimated\n",
      "  category=OptimizeWarning)\n"
     ]
    },
    {
     "data": {
      "text/plain": [
       "(1090.4999961630895, -130.688107178735, 243.47423251629675)"
      ]
     },
     "execution_count": 9,
     "metadata": {},
     "output_type": "execute_result"
    },
    {
     "data": {
      "image/png": "[encoded data removed]",
      "text/plain": [
       "<Figure size 432x288 with 1 Axes>"
      ]
     },
     "metadata": {
      "needs_background": "light"
     },
     "output_type": "display_data"
    }
   ],
   "source": [
    "args, _ = curve_fit(LogM1Test, t, y)\n",
    "b0, b1, b2 = args\n",
    "plt.plot(t, LogM1Test(t,b0,b1,b2), color = 'red')\n",
    "b0, b1, b2"
   ]
  },
  {
   "cell_type": "markdown",
   "id": "de7f8c1a-20da-4a17-8aed-51d93f56b028",
   "metadata": {},
   "source": [
    "---\n"
   ]
  },
  {
   "cell_type": "markdown",
   "id": "bd96ca80-d791-4773-91cf-13a398d20620",
   "metadata": {},
   "source": [
    "#### Используя функцию curve_fit находим коэффициенты $\\beta_1$ и $\\beta_2$"
   ]
  },
  {
   "cell_type": "code",
   "execution_count": 10,
   "id": "3177ba21-11c9-4d86-92fa-b89ac8b90967",
   "metadata": {},
   "outputs": [
    {
     "data": {
      "text/plain": [
       "(136.05696163473326, 1.4002214413050171)"
      ]
     },
     "execution_count": 10,
     "metadata": {},
     "output_type": "execute_result"
    }
   ],
   "source": [
    "args, _ = curve_fit(LogM1, t, y)\n",
    "b1, b2 = args\n",
    "yLogM1 = LogM1(t, b1, b2)\n",
    "\n",
    "b1, b2"
   ]
  },
  {
   "cell_type": "markdown",
   "id": "d92e40c7-5206-4262-8a03-5f9854cb9026",
   "metadata": {},
   "source": [
    "#### Строим график первой логистической модели с полученными коэффициентами"
   ]
  },
  {
   "cell_type": "code",
   "execution_count": 11,
   "id": "08c29814-c9c7-4de5-ab3c-00d754b04b77",
   "metadata": {},
   "outputs": [
    {
     "name": "stdout",
     "output_type": "stream",
     "text": [
      "136.05696163473326\n"
     ]
    },
    {
     "data": {
      "image/png": "[encoded data removed]",
      "text/plain": [
       "<Figure size 432x288 with 1 Axes>"
      ]
     },
     "metadata": {
      "needs_background": "light"
     },
     "output_type": "display_data"
    }
   ],
   "source": [
    "plt.plot(t, y, 'o', color = 'blue')\n",
    "plt.plot(t, LogM1(t,b1, b2), color = 'red')\n",
    "pass\n",
    "print(b1)"
   ]
  },
  {
   "cell_type": "markdown",
   "id": "4dc7e530-2ad4-4aa8-b48b-17c457b3f512",
   "metadata": {},
   "source": [
    "#### Снова вычисляем общую ошибку"
   ]
  },
  {
   "cell_type": "code",
   "execution_count": 12,
   "id": "4f533d34-a72d-4739-abc6-0db3535e0db1",
   "metadata": {},
   "outputs": [
    {
     "name": "stdout",
     "output_type": "stream",
     "text": [
      "757.4349949724544\n"
     ]
    }
   ],
   "source": [
    "res = pow(y - LogM1(t, b1, b2), 2)\n",
    "res = np.sqrt(res)\n",
    "err = 0\n",
    "for i in range(len(res)):\n",
    "    err+=res[i]\n",
    "print(err)    "
   ]
  },
  {
   "cell_type": "markdown",
   "id": "61449666-8dc6-4173-af1e-056cac578f72",
   "metadata": {},
   "source": [
    "#### Производим аналогичные действия со второй логистической моделью:\n",
    "- Определяем функцию\n",
    "- Находим недостающие коэффициенты с помощью функции curve_fit\n",
    "- Выводим график модели и находим общую ошибку\n"
   ]
  },
  {
   "cell_type": "code",
   "execution_count": 13,
   "id": "58d33bcf-1153-4418-8de1-bb8917e0c20a",
   "metadata": {},
   "outputs": [],
   "source": [
    "def LogM2(t, t0, b1, b2):\n",
    "    return 2400 / (1 + b1 * np.exp(-b2 * (t - t0)))"
   ]
  },
  {
   "cell_type": "code",
   "execution_count": 14,
   "id": "f80ac468-436c-4c4b-b24b-981fba485cb0",
   "metadata": {},
   "outputs": [
    {
     "data": {
      "text/plain": [
       "(2.6536998048486145, 3.3111895298696807, 1.4002325281545083)"
      ]
     },
     "execution_count": 14,
     "metadata": {},
     "output_type": "execute_result"
    }
   ],
   "source": [
    "zn, _ = curve_fit(LogM2, t, y)\n",
    "t0, b1, b2 = zn\n",
    "yLogM2 = LogM2(t, t0, b1, b2)\n",
    "t0, b1, b2"
   ]
  },
  {
   "cell_type": "code",
   "execution_count": 15,
   "id": "0d7bd100-113e-458c-89a6-62769faac995",
   "metadata": {},
   "outputs": [
    {
     "data": {
      "image/png": "[encoded data removed]",
      "text/plain": [
       "<Figure size 432x288 with 1 Axes>"
      ]
     },
     "metadata": {
      "needs_background": "light"
     },
     "output_type": "display_data"
    }
   ],
   "source": [
    "plt.plot(t, y, 'o', color = 'blue')\n",
    "plt.plot(t, LogM2(t, t0, b1, b2), color = 'red')\n",
    "pass"
   ]
  },
  {
   "cell_type": "code",
   "execution_count": 16,
   "id": "28813034-4987-4f23-8c9d-c15b7c01cc1b",
   "metadata": {},
   "outputs": [
    {
     "name": "stdout",
     "output_type": "stream",
     "text": [
      "757.4445086385354\n"
     ]
    }
   ],
   "source": [
    "res = pow(y - LogM2(t, t0, b1, b2), 2)\n",
    "res = np.sqrt(res)\n",
    "err = 0\n",
    "for i in range(len(res)):\n",
    "    err+=res[i]\n",
    "print(err )  "
   ]
  },
  {
   "cell_type": "markdown",
   "id": "eada672f-02f3-47ef-935c-56de415e9b2f",
   "metadata": {},
   "source": [
    "### Сравнивая общие ошибки трех функций я пришел к выводу:\n",
    "- что функция curve_fit сильнее аппроксимизирует данные, чем линейный МНК\n",
    "- у двух логистических моделей, между собой практически нет разницы в ошибках, что еще раз доказывает, что curve_fit лучше справляется с аппроксимизацией данных"
   ]
  }
 ],
 "metadata": {
  "kernelspec": {
   "display_name": "Python 3 (ipykernel)",
   "language": "python",
   "name": "python3"
  },
  "language_info": {
   "codemirror_mode": {
    "name": "ipython",
    "version": 3
   },
   "file_extension": ".py",
   "mimetype": "text/x-python",
   "name": "python",
   "nbconvert_exporter": "python",
   "pygments_lexer": "ipython3",
   "version": "3.7.8"
  }
 },
 "nbformat": 4,
 "nbformat_minor": 5
}
